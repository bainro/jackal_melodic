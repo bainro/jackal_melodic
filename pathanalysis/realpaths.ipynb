{
 "cells": [
  {
   "cell_type": "code",
   "execution_count": 14,
   "id": "ad58ead5-9a85-4349-bab0-8dae622cb7ee",
   "metadata": {},
   "outputs": [],
   "source": [
    "import os\n",
    "import sys\n",
    "import numpy as np\n",
    "sys.path.append('../')\n",
    "import scipy.stats as stats\n",
    "from utils import get_distance, haversineDistance\n",
    "from placecell import PlaceNetwork, loadNetwork"
   ]
  },
  {
   "cell_type": "code",
   "execution_count": 15,
   "id": "cdd77b6a-9c0a-40e8-b0fe-d3df849b5b1e",
   "metadata": {},
   "outputs": [],
   "source": [
    "PATH_DIR = 'paths'"
   ]
  },
  {
   "cell_type": "code",
   "execution_count": 16,
   "id": "0221890e-d11f-4676-a58f-99cc49d79d0a",
   "metadata": {},
   "outputs": [],
   "source": [
    "def two_sample_t_test(data1, data2, alpha=0.05):\n",
    "    t_statistic, p_value = stats.ttest_ind(data1, data2)\n",
    "    degrees_of_freedom = len(data1) + len(data2) - 2\n",
    "    critical_value = stats.t.ppf(1 - alpha / 2, degrees_of_freedom)\n",
    "    reject_null = abs(t_statistic) > critical_value\n",
    "\n",
    "    result = {\n",
    "        't_statistic': t_statistic,\n",
    "        'p_value': p_value,\n",
    "        'degrees_of_freedom': degrees_of_freedom,\n",
    "        'critical_value': critical_value,\n",
    "        'reject_null': reject_null\n",
    "    }\n",
    "\n",
    "    return result\n",
    "\n",
    "def wilcoxon_ranksum_test(data1, data2):\n",
    "    statistic, p_value = stats.ranksums(data1, data2)\n",
    "\n",
    "    result = {\n",
    "        'statistic': statistic,\n",
    "        'p_value': p_value,\n",
    "    }\n",
    "    return result"
   ]
  },
  {
   "cell_type": "code",
   "execution_count": 17,
   "id": "c83bcb6b-ea86-4a96-894e-f11f8a0b87ed",
   "metadata": {},
   "outputs": [],
   "source": [
    "def stringToTuple(input_string):\n",
    "    try:\n",
    "        tuples_list = eval(input_string)\n",
    "        \n",
    "        if isinstance(tuples_list, list) and all(isinstance(t, tuple) and len(t) == 2 for t in tuples_list):\n",
    "            return tuples_list\n",
    "        else:\n",
    "            raise ValueError(\"Invalid input format. Must be a list of tuples.\")\n",
    "    \n",
    "    except Exception as e:\n",
    "        raise ValueError(\"Error converting string to tuples: {}\".format(str(e)))\n",
    "\n",
    "def evalCost(input_string):\n",
    "    try:\n",
    "        # Using eval to parse the string into a Python expression\n",
    "        list_of_lists = eval(input_string)\n",
    "        \n",
    "        # Check if the result is a list of lists\n",
    "        if isinstance(list_of_lists, list) and all(isinstance(sublist, list) for sublist in list_of_lists):\n",
    "            # Check if each element in the sublists is a float\n",
    "            flattened_list = [elem for sublist in list_of_lists for elem in sublist]\n",
    "            return list_of_lists\n",
    "        else:\n",
    "            raise ValueError(\"Invalid input format. Must be a list of lists.\")\n",
    "    \n",
    "    except Exception as e:\n",
    "        return None\n",
    "        raise ValueError(\"Error converting string to list of lists: {}\".format(str(e)))"
   ]
  },
  {
   "cell_type": "code",
   "execution_count": 18,
   "id": "991b5602-0380-490e-bf57-75e29a48374c",
   "metadata": {},
   "outputs": [],
   "source": [
    "dir_list = os.listdir(PATH_DIR)\n",
    "\n",
    "paths = {'RRT' : {}, 'spike' : {}}\n",
    "start_ends = []\n",
    "\n",
    "for file in dir_list:\n",
    "    if os.path.isdir(os.path.join(PATH_DIR, file)):\n",
    "        continue\n",
    "    comps = file[0:-4].split(\"_\")\n",
    "    \n",
    "    pathtype = comps[0]\n",
    "    \n",
    "    start = comps[1].split(\"-\")\n",
    "    start = (int(start[0]), int(start[1]))\n",
    "\n",
    "    end = comps[2].split(\"-\")\n",
    "    end = (int(end[0]), int(end[1]))\n",
    "\n",
    "    point = ((start, end))\n",
    "\n",
    "    with open(os.path.join(PATH_DIR, file)) as f:\n",
    "        path = stringToTuple(f.readline())\n",
    "        costs = evalCost(f.readline())\n",
    "        if costs != None:\n",
    "            paths[pathtype][point] = {'trajectory' : None, 'cost' : None}\n",
    "            paths[pathtype][point]['trajectory'] = path\n",
    "            paths[pathtype][point]['cost'] = costs\n",
    "\n",
    "    if point not in start_ends and costs != None:\n",
    "        start_ends.append(point)"
   ]
  },
  {
   "cell_type": "code",
   "execution_count": 19,
   "id": "c102cae6-42e6-49e3-a4f0-0b39bc7eeef0",
   "metadata": {},
   "outputs": [],
   "source": [
    "def calculateCost(data):\n",
    "    current_total = 0\n",
    "    current_time = 0\n",
    "\n",
    "    obstacle_total = 0\n",
    "    obstacle_time = 0\n",
    "\n",
    "    slope_total = 0\n",
    "    slope_time = 0\n",
    "\n",
    "    for wp in data:\n",
    "        current_total += wp[1]\n",
    "        current_time += wp[2]\n",
    "        obstacle_total += wp[3]\n",
    "        obstacle_time += wp[4]\n",
    "        slope_total += wp[5]\n",
    "        slope_time += wp[6]\n",
    "\n",
    "    return [current_total, current_time, obstacle_total, obstacle_time, slope_total, slope_time]"
   ]
  },
  {
   "cell_type": "code",
   "execution_count": 20,
   "id": "7587f6cc-4b78-4080-b893-5b106834ee8a",
   "metadata": {},
   "outputs": [],
   "source": [
    "rrts = []\n",
    "swps = []\n",
    "\n",
    "rrt_plens = []\n",
    "swp_plens = []\n",
    "\n",
    "for pts in start_ends:\n",
    "    rrt_costs = paths['RRT'][pts]['cost']\n",
    "    swp_costs = paths['spike'][pts]['cost']\n",
    "\n",
    "    rrts.append(calculateCost(rrt_costs))\n",
    "    swps.append(calculateCost(swp_costs))\n",
    "\n",
    "    rrt_plens.append(len(paths['RRT'][pts]['trajectory']))\n",
    "    swp_plens.append(len(paths['spike'][pts]['trajectory']))\n",
    "\n",
    "if len(rrts) != len(swps):\n",
    "    print(\"Number of data not the same\")"
   ]
  },
  {
   "cell_type": "code",
   "execution_count": 21,
   "id": "3e70e333-9465-4be6-a042-0b4adf22fcd8",
   "metadata": {},
   "outputs": [],
   "source": [
    "n = PlaceNetwork()\n",
    "n.initAldritch(numcosts=6)\n",
    "n.initConnections()"
   ]
  },
  {
   "cell_type": "code",
   "execution_count": 22,
   "id": "e1a04070-3469-4f82-8a28-5a23e9815902",
   "metadata": {},
   "outputs": [],
   "source": [
    "rrt_dists = []\n",
    "swp_dists = []\n",
    "\n",
    "for pts in start_ends:\n",
    "    rrt = paths['RRT'][pts]['trajectory']\n",
    "    swp = paths['spike'][pts]['trajectory']\n",
    "\n",
    "    rrt_d = 0\n",
    "    swp_d = 0\n",
    "\n",
    "    for i in range(len(rrt) - 1):\n",
    "        d1 = n.cells[n.points[rrt[i]]].origin\n",
    "        d2 = n.cells[n.points[rrt[i+1]]].origin\n",
    "\n",
    "        rrt_d += haversineDistance(d1[0], d1[1], d2[0], d2[1])\n",
    "\n",
    "    rrt_dists.append(rrt_d)\n",
    "\n",
    "    for i in range(len(swp) - 1):\n",
    "        d1 = n.cells[n.points[swp[i]]].origin\n",
    "        d2 = n.cells[n.points[swp[i+1]]].origin\n",
    "    \n",
    "        swp_d += haversineDistance(d1[0], d1[1], d2[0], d2[1])\n",
    "\n",
    "    swp_dists.append(swp_d)\n",
    "        "
   ]
  },
  {
   "cell_type": "code",
   "execution_count": 23,
   "id": "5f188400-b546-402f-885d-f9824a3d311f",
   "metadata": {},
   "outputs": [
    {
     "name": "stdout",
     "output_type": "stream",
     "text": [
      "Spiking wavefront versus rrt\n",
      "Mean swp distance: 46.60400973848205\n",
      "Mean rrt distance: 60.24742640545722\n",
      "p-value: 0.01125063503687932\n"
     ]
    }
   ],
   "source": [
    "distance = two_sample_t_test(swp_dists, rrt_dists)\n",
    "print(\"Spiking wavefront versus rrt\")\n",
    "print(f\"Mean swp distance: {np.mean(swp_dists)}\")\n",
    "print(f\"Mean rrt distance: {np.mean(rrt_dists)}\")\n",
    "print(f\"p-value: {distance['p_value']}\")"
   ]
  },
  {
   "cell_type": "code",
   "execution_count": 24,
   "id": "803df19a-fc85-439f-9814-a00889550027",
   "metadata": {},
   "outputs": [
    {
     "name": "stdout",
     "output_type": "stream",
     "text": [
      "Mean swp current: 0.3032510635033979\n",
      "Mean rrt current: 0.3099980347605631\n",
      "p-value: 0.7280681460292979\n",
      "___________________________________________\n",
      "Mean swp current: 29.16\n",
      "Mean rrt current: 67.8\n",
      "p-value: 0.0065869009404392895\n",
      "___________________________________________\n",
      "Mean swp current: 1593.0148261077345\n",
      "Mean rrt current: 1789.3336772593498\n",
      "p-value: 0.3464791692955913\n"
     ]
    }
   ],
   "source": [
    "swp_curr = [swps[i][1] / swps[i][0] for i in range(len(swps))]\n",
    "rrt_curr = [rrts[i][1] / rrts[i][0] for i in range(len(rrts))]\n",
    "\n",
    "swp_obs = [swps[i][2] for i in range(len(swps))]\n",
    "rrt_obs = [rrts[i][2] for i in range(len(rrts))]\n",
    "\n",
    "swp_slope = [swps[i][4] for i in range(len(swps))]\n",
    "rrt_slope = [rrts[i][4] for i in range(len(rrts))]\n",
    "\n",
    "curr_result = two_sample_t_test(swp_curr, rrt_curr)\n",
    "print(f\"Mean swp current: {np.mean(swp_curr)}\")\n",
    "print(f\"Mean rrt current: {np.mean(rrt_curr)}\")\n",
    "print(f\"p-value: {curr_result['p_value']}\")\n",
    "\n",
    "print(\"___________________________________________\")\n",
    "\n",
    "obs_result = two_sample_t_test(swp_obs, rrt_obs)\n",
    "print(f\"Mean swp current: {np.mean(swp_obs)}\")\n",
    "print(f\"Mean rrt current: {np.mean(rrt_obs)}\")\n",
    "print(f\"p-value: {obs_result['p_value']}\")\n",
    "\n",
    "print(\"___________________________________________\")\n",
    "\n",
    "slope_result = two_sample_t_test(swp_slope, rrt_slope)\n",
    "print(f\"Mean swp current: {np.mean(swp_slope)}\")\n",
    "print(f\"Mean rrt current: {np.mean(rrt_slope)}\")\n",
    "print(f\"p-value: {slope_result['p_value']}\")"
   ]
  },
  {
   "cell_type": "code",
   "execution_count": 29,
   "id": "bad8331d-f5cc-4d42-9287-4e030aa163d5",
   "metadata": {},
   "outputs": [
    {
     "name": "stdout",
     "output_type": "stream",
     "text": [
      "The data has been written to real_paths.txt.\n"
     ]
    }
   ],
   "source": [
    "file_path = 'real_paths.txt'\n",
    "\n",
    "with open(file_path, 'w') as file:\n",
    "    for pair in start_ends:\n",
    "        line = f\"{pair}\\n\"\n",
    "        file.write(line)\n",
    "\n",
    "print(f\"The data has been written to {file_path}.\")"
   ]
  },
  {
   "cell_type": "code",
   "execution_count": null,
   "id": "3f5a433d-5d4d-454d-aa9f-2e5b6d8fff7e",
   "metadata": {},
   "outputs": [],
   "source": []
  }
 ],
 "metadata": {
  "kernelspec": {
   "display_name": "Python 3 (ipykernel)",
   "language": "python",
   "name": "python3"
  },
  "language_info": {
   "codemirror_mode": {
    "name": "ipython",
    "version": 3
   },
   "file_extension": ".py",
   "mimetype": "text/x-python",
   "name": "python",
   "nbconvert_exporter": "python",
   "pygments_lexer": "ipython3",
   "version": "3.12.1"
  }
 },
 "nbformat": 4,
 "nbformat_minor": 5
}
