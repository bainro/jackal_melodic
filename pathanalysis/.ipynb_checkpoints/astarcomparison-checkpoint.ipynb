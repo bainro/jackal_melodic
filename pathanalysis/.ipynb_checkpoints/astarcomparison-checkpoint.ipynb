{
 "cells": [
  {
   "cell_type": "code",
   "execution_count": 97,
   "id": "098752fb-5ec5-4eb7-a126-6d696b25d347",
   "metadata": {},
   "outputs": [],
   "source": [
    "import sys\n",
    "sys.path.append('../')\n",
    "from utils import get_distance\n",
    "from queue import PriorityQueue\n",
    "from dataclasses import dataclass, field\n",
    "from typing import Any, Tuple\n",
    "from placecell import PlaceNetwork, loadNetwork\n",
    "from tqdm import tqdm"
   ]
  },
  {
   "cell_type": "code",
   "execution_count": 98,
   "id": "e20ec8ab-964e-4f0b-9bb0-a6ec5efb5646",
   "metadata": {},
   "outputs": [],
   "source": [
    "def astar(network, startPt, goalPt, costmap):\n",
    "\n",
    "    def getPath(end):\n",
    "        path = []\n",
    "        current = end\n",
    "        while current.camefrom is not None:\n",
    "            path.append(current.item)\n",
    "            current = current.camefrom\n",
    "\n",
    "        path.append(current.item)\n",
    "        return path\n",
    "    \n",
    "    @dataclass(order=True)\n",
    "    class Item:\n",
    "        priority: int\n",
    "        item: Any=field(compare=False)\n",
    "        camefrom: Any=field(compare=False)\n",
    "        \n",
    "    open = PriorityQueue()\n",
    "    visited = set()\n",
    "    \n",
    "    wgt_dict = network.normalizeWeights(costmap)\n",
    "    startID = network.points[startPt[0], startPt[1]]\n",
    "    goalID = network.points[goalPt[0], goalPt[1]]\n",
    "\n",
    "    open.put(Item(item=startID, priority=0, camefrom=None))\n",
    "\n",
    "    while not open.empty():\n",
    "        \n",
    "        current = open.get_nowait()\n",
    "\n",
    "        if current.item == goalID:\n",
    "            return getPath(current)\n",
    "\n",
    "        visited.add(current.item)\n",
    "\n",
    "        neighbors = [i.ID for i in network.cells[current.item].connections.values()]\n",
    "        for neighborID in neighbors:\n",
    "            if neighborID not in visited:\n",
    "                cost = current.priority + round(wgt_dict[(current.item, neighborID)])\n",
    "                open.put(Item(item=neighborID, priority=cost, camefrom=current))\n",
    "\n",
    "    print(\"Goal couldn't be reached (shouldn't get here)\")\n",
    "    return None"
   ]
  },
  {
   "cell_type": "code",
   "execution_count": 99,
   "id": "1aa79034-7b48-4c0c-93f7-407e5b3cf3b9",
   "metadata": {},
   "outputs": [],
   "source": [
    "network = PlaceNetwork()\n",
    "data = loadNetwork(\"../fixed_wgts\")\n",
    "network.loadFromFile(data)\n",
    "\n",
    "naive_network = PlaceNetwork()\n",
    "naive_network.initAldritch(numcosts=6)\n",
    "naive_network.initConnections()\n",
    "#(15, 1) to (9, 11) for obstacles\n",
    "\n",
    "rrt_p = network.RRTstar((15, 1), (9, 11), costmap=[0, 1, 4, 5])\n",
    "sw_p = network.spikeWave((15, 1), (9, 11), costmap=[0, 1, 4, 5])\n",
    "astar_p = astar(network, (15, 1), (9, 11), costmap=[0, 1, 4, 5])\n",
    "naive_p = astar(naive_network, (15, 1), (9, 11), costmap=[0])"
   ]
  },
  {
   "cell_type": "code",
   "execution_count": null,
   "id": "5e500c79-204b-4f75-ae26-f5020632892a",
   "metadata": {},
   "outputs": [
    {
     "name": "stderr",
     "output_type": "stream",
     "text": [
      " 10%|███████                                                                   | 5424/57086 [13:33<10:40:13,  1.34it/s]"
     ]
    }
   ],
   "source": [
    "mindistance = 3\n",
    "\n",
    "same = 0\n",
    "total = 0\n",
    "\n",
    "wps = []\n",
    "st_ends = []\n",
    "\n",
    "astar_pths = []\n",
    "sw_pths = []\n",
    "rrt_pths = []\n",
    "naive_pths = []\n",
    "\n",
    "for cell in network.cells:\n",
    "    wps.append((network.points[cell.ID][0], network.points[cell.ID][1]))\n",
    "\n",
    "for start in wps:\n",
    "    for end in wps:\n",
    "        if start == end or get_distance(start, end) < 2:\n",
    "            continue\n",
    "        st_ends.append((start, end))\n",
    "\n",
    "for test_pt in tqdm(st_ends):\n",
    "    astar_p = astar(network, test_pt[0], test_pt[1], costmap=[0, 1, 4, 5])\n",
    "    sw_p = network.spikeWave(test_pt[0], test_pt[1], costmap=[0, 1, 4, 5])\n",
    "    if astar_p == sw_p:\n",
    "        same += 1"
   ]
  },
  {
   "cell_type": "code",
   "execution_count": null,
   "id": "8db103d1-19a0-4bb1-9c0c-1b6e17f2e87b",
   "metadata": {},
   "outputs": [],
   "source": []
  }
 ],
 "metadata": {
  "kernelspec": {
   "display_name": "Python 3 (ipykernel)",
   "language": "python",
   "name": "python3"
  },
  "language_info": {
   "codemirror_mode": {
    "name": "ipython",
    "version": 3
   },
   "file_extension": ".py",
   "mimetype": "text/x-python",
   "name": "python",
   "nbconvert_exporter": "python",
   "pygments_lexer": "ipython3",
   "version": "3.11.6"
  }
 },
 "nbformat": 4,
 "nbformat_minor": 5
}
