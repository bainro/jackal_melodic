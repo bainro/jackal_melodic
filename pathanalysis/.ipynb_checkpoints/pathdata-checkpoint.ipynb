{
 "cells": [
  {
   "cell_type": "code",
   "execution_count": 1,
   "id": "2ebb1d37-444b-4294-a5a0-545a38aa63c2",
   "metadata": {},
   "outputs": [],
   "source": [
    "import os"
   ]
  },
  {
   "cell_type": "code",
   "execution_count": 2,
   "id": "0e736f93-0b33-409a-8d29-da3c8373dc7a",
   "metadata": {},
   "outputs": [],
   "source": [
    "PATH_DIR = 'paths'"
   ]
  },
  {
   "cell_type": "code",
   "execution_count": 3,
   "id": "c8585726-f720-4590-a559-79f059d4fd62",
   "metadata": {},
   "outputs": [],
   "source": [
    "def stringToTuple(input_string):\n",
    "    try:\n",
    "        tuples_list = eval(input_string)\n",
    "        \n",
    "        if isinstance(tuples_list, list) and all(isinstance(t, tuple) and len(t) == 2 for t in tuples_list):\n",
    "            return tuples_list\n",
    "        else:\n",
    "            raise ValueError(\"Invalid input format. Must be a list of tuples.\")\n",
    "    \n",
    "    except Exception as e:\n",
    "        raise ValueError(\"Error converting string to tuples: {}\".format(str(e)))\n",
    "\n",
    "def evalCost(input_string):\n",
    "    try:\n",
    "        # Using eval to parse the string into a Python expression\n",
    "        list_of_lists = eval(input_string)\n",
    "        \n",
    "        # Check if the result is a list of lists\n",
    "        if isinstance(list_of_lists, list) and all(isinstance(sublist, list) for sublist in list_of_lists):\n",
    "            # Check if each element in the sublists is a float\n",
    "            flattened_list = [elem for sublist in list_of_lists for elem in sublist]\n",
    "            return list_of_lists\n",
    "        else:\n",
    "            raise ValueError(\"Invalid input format. Must be a list of lists.\")\n",
    "    \n",
    "    except Exception as e:\n",
    "        return None\n",
    "        raise ValueError(\"Error converting string to list of lists: {}\".format(str(e)))"
   ]
  },
  {
   "cell_type": "code",
   "execution_count": 4,
   "id": "ba3e8e74-93ef-4ce3-9d20-9030531fbc8e",
   "metadata": {},
   "outputs": [],
   "source": [
    "dir_list = os.listdir(PATH_DIR)\n",
    "\n",
    "paths = {'RRT' : {}, 'spike' : {}}\n",
    "start_ends = []\n",
    "\n",
    "for file in dir_list:\n",
    "    if os.path.isdir(os.path.join(PATH_DIR, file)):\n",
    "        continue\n",
    "    comps = file[0:-4].split(\"_\")\n",
    "    \n",
    "    pathtype = comps[0]\n",
    "    \n",
    "    start = comps[1].split(\"-\")\n",
    "    start = (int(start[0]), int(start[1]))\n",
    "\n",
    "    end = comps[2].split(\"-\")\n",
    "    end = (int(end[0]), int(end[1]))\n",
    "\n",
    "    point = ((start, end))\n",
    "\n",
    "    with open(os.path.join(PATH_DIR, file)) as f:\n",
    "        path = stringToTuple(f.readline())\n",
    "        costs = evalCost(f.readline())\n",
    "        if costs != None:\n",
    "            paths[pathtype][point] = {'trajectory' : None, 'cost' : None}\n",
    "            paths[pathtype][point]['trajectory'] = path\n",
    "            paths[pathtype][point]['cost'] = costs\n",
    "\n",
    "    if point not in start_ends and costs != None:\n",
    "        start_ends.append(point)"
   ]
  },
  {
   "cell_type": "code",
   "execution_count": 5,
   "id": "88219b8c-f6b3-46ad-beae-351f7232018f",
   "metadata": {},
   "outputs": [],
   "source": [
    "def calculateCost(data):\n",
    "    current_total = 0\n",
    "    current_time = 0\n",
    "\n",
    "    obstacle_total = 0\n",
    "    obstacle_time = 0\n",
    "\n",
    "    slope_total = 0\n",
    "    slope_time = 0\n",
    "\n",
    "    for wp in data:\n",
    "        current_total += wp[1]\n",
    "        current_time += wp[2]\n",
    "        obstacle_total += wp[3]\n",
    "        obstacle_time += wp[4]\n",
    "        slope_total += wp[5]\n",
    "        slope_time += wp[6]\n",
    "\n",
    "    return [current_total, current_time, obstacle_total, obstacle_time, slope_total, slope_time]"
   ]
  },
  {
   "cell_type": "code",
   "execution_count": 6,
   "id": "996b0a63-0fa9-4587-9958-d581246576df",
   "metadata": {},
   "outputs": [],
   "source": [
    "rrts = []\n",
    "swps = []\n",
    "\n",
    "rrt_plens = []\n",
    "swp_plens = []\n",
    "\n",
    "for pts in start_ends:\n",
    "    rrt_costs = paths['RRT'][pts]['cost']\n",
    "    swp_costs = paths['spike'][pts]['cost']\n",
    "\n",
    "    rrts.append(calculateCost(rrt_costs))\n",
    "    swps.append(calculateCost(swp_costs))\n",
    "\n",
    "    rrt_plens.append(len(paths['RRT'][pts]['trajectory']))\n",
    "    swp_plens.append(len(paths['spike'][pts]['trajectory']))\n",
    "\n",
    "if len(rrts) != len(swps):\n",
    "    print(\"Number of data not the same\")"
   ]
  },
  {
   "cell_type": "code",
   "execution_count": 15,
   "id": "1ac2398d-b59c-46a5-a29b-e54e6408cba3",
   "metadata": {},
   "outputs": [
    {
     "name": "stdout",
     "output_type": "stream",
     "text": [
      "-1.1851851851851851\n",
      "-0.007817366706074594\n",
      "-23.88888888888889\n",
      "-80.37143439821341\n"
     ]
    }
   ],
   "source": [
    "swp_curr = []\n",
    "rrt_curr = []\n",
    "\n",
    "swp_obs = []\n",
    "rrt_obs = []\n",
    "\n",
    "swp_slope = []\n",
    "rrt_slope = []\n",
    "\n",
    "for i in range(len(rrts)):\n",
    "    pathlen_diff += swp_plens[i] - rrt_plens[i]\n",
    "    \n",
    "    current_diff += (swps[i][1] / swps[i][0] - rrts[i][1] / swps[i][0])\n",
    "    #current_diff += (swps[i][1] - rrts[i][1])\n",
    "    obs_diff += (swps[i][2] - rrts[i][2])\n",
    "    slope_diff += (swps[i][4] - rrts[i][4])\n",
    "    \n",
    "    avg_obs_diff += (swps[i][2] / swps[i][3] - rrts[i][2] / rrts[i][3])\n",
    "    avg_slope_diff += (swps[i][4] / swps[i][5] - rrts[i][4] / rrts[i][5])\n",
    "    #print(swps[i][2], swps[i][3], rrts[i][2], rrts[i][3])\n",
    "    #print((swps[i][2] / swps[i][3] - rrts[i][2] / rrts[i][3]))\n",
    "\n",
    "total = len(rrts)\n",
    "\n",
    "print(pathlen_diff / total)\n",
    "\n",
    "print(current_diff / total)\n",
    "print(obs_diff / total)\n",
    "print(slope_diff / total)\n",
    "\n",
    "#print(avg_obs_diff / total)\n",
    "#print(avg_slope_diff / total)"
   ]
  },
  {
   "cell_type": "code",
   "execution_count": null,
   "id": "602d6324-0c4e-4927-8a70-663079488b98",
   "metadata": {},
   "outputs": [],
   "source": []
  }
 ],
 "metadata": {
  "kernelspec": {
   "display_name": "Python 3 (ipykernel)",
   "language": "python",
   "name": "python3"
  },
  "language_info": {
   "codemirror_mode": {
    "name": "ipython",
    "version": 3
   },
   "file_extension": ".py",
   "mimetype": "text/x-python",
   "name": "python",
   "nbconvert_exporter": "python",
   "pygments_lexer": "ipython3",
   "version": "3.11.6"
  }
 },
 "nbformat": 4,
 "nbformat_minor": 5
}
