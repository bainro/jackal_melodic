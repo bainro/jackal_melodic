{
 "cells": [
  {
   "cell_type": "code",
   "execution_count": 2,
   "id": "ad58ead5-9a85-4349-bab0-8dae622cb7ee",
   "metadata": {},
   "outputs": [],
   "source": [
    "import os\n",
    "import sys\n",
    "import numpy as np\n",
    "sys.path.append('../')\n",
    "import scipy.stats as stats\n",
    "from utils import get_distance, haversineDistance\n",
    "from placecell import PlaceNetwork, loadNetwork"
   ]
  },
  {
   "cell_type": "code",
   "execution_count": 3,
   "id": "cdd77b6a-9c0a-40e8-b0fe-d3df849b5b1e",
   "metadata": {},
   "outputs": [],
   "source": [
    "PATH_DIR = 'paths'"
   ]
  },
  {
   "cell_type": "code",
   "execution_count": 4,
   "id": "0221890e-d11f-4676-a58f-99cc49d79d0a",
   "metadata": {},
   "outputs": [],
   "source": [
    "def two_sample_t_test(data1, data2, alpha=0.05):\n",
    "    t_statistic, p_value = stats.ttest_ind(data1, data2)\n",
    "    degrees_of_freedom = len(data1) + len(data2) - 2\n",
    "    critical_value = stats.t.ppf(1 - alpha / 2, degrees_of_freedom)\n",
    "    reject_null = abs(t_statistic) > critical_value\n",
    "\n",
    "    result = {\n",
    "        't_statistic': t_statistic,\n",
    "        'p_value': p_value,\n",
    "        'degrees_of_freedom': degrees_of_freedom,\n",
    "        'critical_value': critical_value,\n",
    "        'reject_null': reject_null\n",
    "    }\n",
    "\n",
    "    return result\n",
    "\n",
    "def wilcoxon_ranksum_test(data1, data2):\n",
    "    statistic, p_value = stats.ranksums(data1, data2)\n",
    "\n",
    "    result = {\n",
    "        'statistic': statistic,\n",
    "        'p_value': p_value,\n",
    "    }\n",
    "    return result"
   ]
  },
  {
   "cell_type": "code",
   "execution_count": 5,
   "id": "c83bcb6b-ea86-4a96-894e-f11f8a0b87ed",
   "metadata": {},
   "outputs": [],
   "source": [
    "def stringToTuple(input_string):\n",
    "    try:\n",
    "        tuples_list = eval(input_string)\n",
    "        \n",
    "        if isinstance(tuples_list, list) and all(isinstance(t, tuple) and len(t) == 2 for t in tuples_list):\n",
    "            return tuples_list\n",
    "        else:\n",
    "            raise ValueError(\"Invalid input format. Must be a list of tuples.\")\n",
    "    \n",
    "    except Exception as e:\n",
    "        raise ValueError(\"Error converting string to tuples: {}\".format(str(e)))\n",
    "\n",
    "def evalCost(input_string):\n",
    "    try:\n",
    "        # Using eval to parse the string into a Python expression\n",
    "        list_of_lists = eval(input_string)\n",
    "        \n",
    "        # Check if the result is a list of lists\n",
    "        if isinstance(list_of_lists, list) and all(isinstance(sublist, list) for sublist in list_of_lists):\n",
    "            # Check if each element in the sublists is a float\n",
    "            flattened_list = [elem for sublist in list_of_lists for elem in sublist]\n",
    "            return list_of_lists\n",
    "        else:\n",
    "            raise ValueError(\"Invalid input format. Must be a list of lists.\")\n",
    "    \n",
    "    except Exception as e:\n",
    "        return None\n",
    "        raise ValueError(\"Error converting string to list of lists: {}\".format(str(e)))"
   ]
  },
  {
   "cell_type": "code",
   "execution_count": 6,
   "id": "991b5602-0380-490e-bf57-75e29a48374c",
   "metadata": {},
   "outputs": [],
   "source": [
    "dir_list = os.listdir(PATH_DIR)\n",
    "\n",
    "paths = {'RRT' : {}, 'spike' : {}}\n",
    "start_ends = []\n",
    "\n",
    "for file in dir_list:\n",
    "    if os.path.isdir(os.path.join(PATH_DIR, file)):\n",
    "        continue\n",
    "    comps = file[0:-4].split(\"_\")\n",
    "    \n",
    "    pathtype = comps[0]\n",
    "    \n",
    "    start = comps[1].split(\"-\")\n",
    "    start = (int(start[0]), int(start[1]))\n",
    "\n",
    "    end = comps[2].split(\"-\")\n",
    "    end = (int(end[0]), int(end[1]))\n",
    "\n",
    "    point = ((start, end))\n",
    "\n",
    "    with open(os.path.join(PATH_DIR, file)) as f:\n",
    "        path = stringToTuple(f.readline())\n",
    "        costs = evalCost(f.readline())\n",
    "        if costs != None:\n",
    "            paths[pathtype][point] = {'trajectory' : None, 'cost' : None}\n",
    "            paths[pathtype][point]['trajectory'] = path\n",
    "            paths[pathtype][point]['cost'] = costs\n",
    "\n",
    "    if point not in start_ends and costs != None:\n",
    "        start_ends.append(point)"
   ]
  },
  {
   "cell_type": "code",
   "execution_count": 7,
   "id": "c102cae6-42e6-49e3-a4f0-0b39bc7eeef0",
   "metadata": {},
   "outputs": [],
   "source": [
    "def calculateCost(data):\n",
    "    current_total = 0\n",
    "    current_time = 0\n",
    "\n",
    "    obstacle_total = 0\n",
    "    obstacle_time = 0\n",
    "\n",
    "    slope_total = 0\n",
    "    slope_time = 0\n",
    "\n",
    "    for wp in data:\n",
    "        current_total += wp[1]\n",
    "        current_time += wp[2]\n",
    "        obstacle_total += wp[3]\n",
    "        obstacle_time += wp[4]\n",
    "        slope_total += wp[5]\n",
    "        slope_time += wp[6]\n",
    "\n",
    "    return [current_total, current_time, obstacle_total, obstacle_time, slope_total, slope_time]"
   ]
  },
  {
   "cell_type": "code",
   "execution_count": 8,
   "id": "7587f6cc-4b78-4080-b893-5b106834ee8a",
   "metadata": {},
   "outputs": [],
   "source": [
    "rrts = []\n",
    "swps = []\n",
    "\n",
    "rrt_plens = []\n",
    "swp_plens = []\n",
    "\n",
    "for pts in start_ends:\n",
    "    rrt_costs = paths['RRT'][pts]['cost']\n",
    "    swp_costs = paths['spike'][pts]['cost']\n",
    "\n",
    "    rrts.append(calculateCost(rrt_costs))\n",
    "    swps.append(calculateCost(swp_costs))\n",
    "\n",
    "    rrt_plens.append(len(paths['RRT'][pts]['trajectory']))\n",
    "    swp_plens.append(len(paths['spike'][pts]['trajectory']))\n",
    "\n",
    "if len(rrts) != len(swps):\n",
    "    print(\"Number of data not the same\")"
   ]
  },
  {
   "cell_type": "code",
   "execution_count": 9,
   "id": "3e70e333-9465-4be6-a042-0b4adf22fcd8",
   "metadata": {},
   "outputs": [],
   "source": [
    "n = PlaceNetwork()\n",
    "n.initAldritch(numcosts=6)\n",
    "n.initConnections()"
   ]
  },
  {
   "cell_type": "code",
   "execution_count": 13,
   "id": "e1a04070-3469-4f82-8a28-5a23e9815902",
   "metadata": {},
   "outputs": [],
   "source": [
    "rrt_dists = []\n",
    "swp_dists = []\n",
    "\n",
    "for pts in start_ends:\n",
    "    rrt = paths['RRT'][pts]['trajectory']\n",
    "    swp = paths['spike'][pts]['trajectory']\n",
    "\n",
    "    rrt_d = 0\n",
    "    swp_d = 0\n",
    "\n",
    "    for i in range(len(rrt) - 1):\n",
    "        d1 = n.cells[n.points[rrt[i]]].origin\n",
    "        d2 = n.cells[n.points[rrt[i+1]]].origin\n",
    "\n",
    "        rrt_d += haversineDistance(d1[0], d1[1], d2[0], d2[1])\n",
    "\n",
    "    rrt_dists.append(rrt_d)\n",
    "\n",
    "    for i in range(len(swp) - 1):\n",
    "        d1 = n.cells[n.points[swp[i]]].origin\n",
    "        d2 = n.cells[n.points[swp[i+1]]].origin\n",
    "    \n",
    "        swp_d += haversineDistance(d1[0], d1[1], d2[0], d2[1])\n",
    "\n",
    "    swp_dists.append(swp_d)\n",
    "        "
   ]
  },
  {
   "cell_type": "code",
   "execution_count": 16,
   "id": "5f188400-b546-402f-885d-f9824a3d311f",
   "metadata": {},
   "outputs": [
    {
     "name": "stdout",
     "output_type": "stream",
     "text": [
      "Spiking wavefront verus rrt\n",
      "P-value: 0.01125063503687932\n"
     ]
    }
   ],
   "source": [
    "distance = two_sample_t_test(swp_dists, rrt_dists)\n",
    "print(\"Spiking wavefront versus rrt\")\n",
    "print(f\"P-value: {distance['p_value']}\")"
   ]
  },
  {
   "cell_type": "code",
   "execution_count": 13,
   "id": "2cc4f731-f3ce-43a2-bdb9-84c21ddf4493",
   "metadata": {},
   "outputs": [
    {
     "data": {
      "text/plain": [
       "{'statistic': -2.473863375370596, 'p_value': 0.013366080075435292}"
      ]
     },
     "execution_count": 13,
     "metadata": {},
     "output_type": "execute_result"
    }
   ],
   "source": [
    "wilcoxon_ranksum_test(swp_dists, rrt_dists)"
   ]
  },
  {
   "cell_type": "code",
   "execution_count": 14,
   "id": "db2c6dfb-6ffa-4da8-a12a-e5459b9f351d",
   "metadata": {},
   "outputs": [],
   "source": [
    "import matplotlib.pyplot as plt"
   ]
  },
  {
   "cell_type": "code",
   "execution_count": 15,
   "id": "97197c1c-7dda-4671-a7d3-bcc70431d81c",
   "metadata": {},
   "outputs": [
    {
     "data": {
      "image/png": "[encoded data removed]",
      "text/plain": [
       "<Figure size 640x480 with 1 Axes>"
      ]
     },
     "metadata": {},
     "output_type": "display_data"
    },
    {
     "data": {
      "image/png": "[encoded data removed]",
      "text/plain": [
       "<Figure size 640x480 with 1 Axes>"
      ]
     },
     "metadata": {},
     "output_type": "display_data"
    }
   ],
   "source": [
    "plt.hist(swp_dists)\n",
    "plt.title(\"SWP distance (all paths)\")\n",
    "plt.xlabel(\"Distance (m)\")\n",
    "plt.savefig(\"swp.png\")\n",
    "plt.show()\n",
    "plt.hist(rrt_dists)\n",
    "plt.title(\"RRT distance (all paths)\")\n",
    "plt.xlabel(\"Distance (m)\")\n",
    "plt.savefig(\"rrt.png\")\n",
    "plt.show()"
   ]
  },
  {
   "cell_type": "code",
   "execution_count": 1,
   "id": "803df19a-fc85-439f-9814-a00889550027",
   "metadata": {},
   "outputs": [
    {
     "ename": "NameError",
     "evalue": "name 'swps' is not defined",
     "output_type": "error",
     "traceback": [
      "\u001b[1;31m---------------------------------------------------------------------------\u001b[0m",
      "\u001b[1;31mNameError\u001b[0m                                 Traceback (most recent call last)",
      "Cell \u001b[1;32mIn[1], line 1\u001b[0m\n\u001b[1;32m----> 1\u001b[0m swp_curr \u001b[38;5;241m=\u001b[39m [swps[i][\u001b[38;5;241m1\u001b[39m] \u001b[38;5;241m/\u001b[39m swps[i][\u001b[38;5;241m0\u001b[39m] \u001b[38;5;28;01mfor\u001b[39;00m i \u001b[38;5;129;01min\u001b[39;00m \u001b[38;5;28mrange\u001b[39m(\u001b[38;5;28mlen\u001b[39m(\u001b[43mswps\u001b[49m))]\n\u001b[0;32m      2\u001b[0m rrt_curr \u001b[38;5;241m=\u001b[39m [rrts[i][\u001b[38;5;241m1\u001b[39m] \u001b[38;5;241m/\u001b[39m rrts[i][\u001b[38;5;241m0\u001b[39m] \u001b[38;5;28;01mfor\u001b[39;00m i \u001b[38;5;129;01min\u001b[39;00m \u001b[38;5;28mrange\u001b[39m(\u001b[38;5;28mlen\u001b[39m(rrts))]\n\u001b[0;32m      4\u001b[0m swp_obs \u001b[38;5;241m=\u001b[39m [swps[i][\u001b[38;5;241m2\u001b[39m] \u001b[38;5;28;01mfor\u001b[39;00m i \u001b[38;5;129;01min\u001b[39;00m \u001b[38;5;28mrange\u001b[39m(\u001b[38;5;28mlen\u001b[39m(swps))]\n",
      "\u001b[1;31mNameError\u001b[0m: name 'swps' is not defined"
     ]
    }
   ],
   "source": [
    "swp_curr = [swps[i][1] / swps[i][0] for i in range(len(swps))]\n",
    "rrt_curr = [rrts[i][1] / rrts[i][0] for i in range(len(rrts))]\n",
    "\n",
    "swp_obs = [swps[i][2] for i in range(len(swps))]\n",
    "rrt_obs = [rrts[i][2] for i in range(len(rrts))]\n",
    "\n",
    "swp_slope = [swps[i][4] for i in range(len(swps))]\n",
    "rrt_slope = [rrts[i][4] for i in range(len(rrts))]\n",
    "\n",
    "curr_result = two_sample_t_test(swp_curr, rrt_curr)\n",
    "print(np.mean(swp_curr))\n",
    "print(curr_result)\n",
    "\n",
    "obs_result = two_sample_t_test(swp_obs, rrt_obs)\n",
    "print(obs_result)\n",
    "\n",
    "slope_result = two_sample_t_test(swp_slope, rrt_slope)\n",
    "print(slope_result)"
   ]
  },
  {
   "cell_type": "code",
   "execution_count": 27,
   "id": "8d3c3e8f-e201-4f23-a0f8-8c3068022946",
   "metadata": {},
   "outputs": [
    {
     "data": {
      "image/png": "[encoded data removed]",
      "text/plain": [
       "<Figure size 640x480 with 1 Axes>"
      ]
     },
     "metadata": {},
     "output_type": "display_data"
    },
    {
     "data": {
      "image/png": "[encoded data removed]",
      "text/plain": [
       "<Figure size 640x480 with 1 Axes>"
      ]
     },
     "metadata": {},
     "output_type": "display_data"
    }
   ],
   "source": [
    "plt.hist(swp_slope)\n",
    "plt.show()\n",
    "plt.hist(rrt_slope)\n",
    "plt.show()"
   ]
  },
  {
   "cell_type": "code",
   "execution_count": null,
   "id": "bad8331d-f5cc-4d42-9287-4e030aa163d5",
   "metadata": {},
   "outputs": [],
   "source": []
  }
 ],
 "metadata": {
  "kernelspec": {
   "display_name": "Python 3 (ipykernel)",
   "language": "python",
   "name": "python3"
  },
  "language_info": {
   "codemirror_mode": {
    "name": "ipython",
    "version": 3
   },
   "file_extension": ".py",
   "mimetype": "text/x-python",
   "name": "python",
   "nbconvert_exporter": "python",
   "pygments_lexer": "ipython3",
   "version": "3.12.1"
  }
 },
 "nbformat": 4,
 "nbformat_minor": 5
}
