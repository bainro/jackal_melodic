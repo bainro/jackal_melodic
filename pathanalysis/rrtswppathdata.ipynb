{
 "cells": [
  {
   "cell_type": "code",
   "execution_count": 60,
   "id": "2ebb1d37-444b-4294-a5a0-545a38aa63c2",
   "metadata": {},
   "outputs": [],
   "source": [
    "import os\n",
    "import numpy as np\n",
    "import pickle\n",
    "import sys\n",
    "import scipy.stats as stats\n",
    "from tqdm import tqdm\n",
    "import matplotlib.pyplot as plt\n",
    "sys.path.append('../')\n",
    "from utils import get_distance, haversineDistance\n",
    "from placecell import PlaceNetwork, loadNetwork"
   ]
  },
  {
   "cell_type": "code",
   "execution_count": 31,
   "id": "e50b1aa7-ee74-4b67-bd1b-b7739091897d",
   "metadata": {},
   "outputs": [],
   "source": [
    "def two_sample_t_test(data1, data2, alpha=0.05):\n",
    "    t_statistic, p_value = stats.ttest_ind(data1, data2)\n",
    "    degrees_of_freedom = len(data1) + len(data2) - 2\n",
    "    critical_value = stats.t.ppf(1 - alpha / 2, degrees_of_freedom)\n",
    "    reject_null = abs(t_statistic) > critical_value\n",
    "\n",
    "    result = {\n",
    "        't_statistic': t_statistic,\n",
    "        'p_value': p_value,\n",
    "        'degrees_of_freedom': degrees_of_freedom,\n",
    "        'critical_value': critical_value,\n",
    "        'reject_null': reject_null\n",
    "    }\n",
    "\n",
    "    return result"
   ]
  },
  {
   "cell_type": "code",
   "execution_count": 32,
   "id": "c90eed17-1e5c-42fa-b307-cc348fa8e4a6",
   "metadata": {},
   "outputs": [],
   "source": [
    "NAIVE_PATH = 'naive_pths.pkl'\n",
    "RRT_PATH = 'rrt_pths.pkl'\n",
    "SW_PATH = 'sw_pths.pkl'\n",
    "ASTAR_PATH = 'astar_pths.pkl'"
   ]
  },
  {
   "cell_type": "code",
   "execution_count": 33,
   "id": "1aa8b7a5-2fac-467b-b14d-ac49d8544b0a",
   "metadata": {},
   "outputs": [],
   "source": [
    "def loadFromFile(file):\n",
    "    f = open(file, 'rb')\n",
    "    data = pickle.load(f)\n",
    "    return data"
   ]
  },
  {
   "cell_type": "code",
   "execution_count": 34,
   "id": "5403454a-6fb5-40b5-ab6d-a14613896cb2",
   "metadata": {},
   "outputs": [],
   "source": [
    "naive = loadFromFile(NAIVE_PATH)\n",
    "rrt = loadFromFile(RRT_PATH)\n",
    "sw = loadFromFile(SW_PATH)\n",
    "astar = loadFromFile(ASTAR_PATH)"
   ]
  },
  {
   "cell_type": "code",
   "execution_count": 35,
   "id": "1ff2ea6b-f400-4300-84e1-86b6d02936b2",
   "metadata": {},
   "outputs": [
    {
     "name": "stdout",
     "output_type": "stream",
     "text": [
      "Total number of paths: 57086\n"
     ]
    }
   ],
   "source": [
    "total = len(naive)\n",
    "print(f\"Total number of paths: {total}\")"
   ]
  },
  {
   "cell_type": "code",
   "execution_count": 36,
   "id": "654ecc5c-9cc7-494e-a91c-7c84c754ad63",
   "metadata": {},
   "outputs": [],
   "source": [
    "sameasrrt = 0\n",
    "sameasnaive = 0\n",
    "sameasastar = 0\n",
    "for n, r, s, a in zip(naive, rrt, sw, astar):\n",
    "    if s == a:\n",
    "        sameasastar += 1     \n",
    "    if s == n:\n",
    "        sameasnaive += 1\n",
    "    if s == r:\n",
    "        sameasrrt += 1"
   ]
  },
  {
   "cell_type": "code",
   "execution_count": 37,
   "id": "67926409-81d1-451b-be7c-1112b154b487",
   "metadata": {},
   "outputs": [
    {
     "name": "stdout",
     "output_type": "stream",
     "text": [
      "SWP and RRT same: 12.58%\n",
      "SWP and naive same: 17.80%\n",
      "SWP and astar same: 32.97%\n"
     ]
    }
   ],
   "source": [
    "print(f\"SWP and RRT same: {(sameasrrt / total) * 100:.2f}%\")\n",
    "print(f\"SWP and naive same: {(sameasnaive / total) * 100:.2f}%\")\n",
    "print(f\"SWP and astar same: {(sameasastar / total) * 100:.2f}%\")"
   ]
  },
  {
   "cell_type": "code",
   "execution_count": 38,
   "id": "e4c1a71b-e98d-4abc-a7d7-6cc06ea42848",
   "metadata": {},
   "outputs": [],
   "source": [
    "network = PlaceNetwork()\n",
    "data = loadNetwork(\"../fixed_wgts\")\n",
    "network.loadFromFile(data)"
   ]
  },
  {
   "cell_type": "code",
   "execution_count": 39,
   "id": "dc7a5251-4187-4a26-830d-73fa5c49f381",
   "metadata": {},
   "outputs": [],
   "source": [
    "wgts = network.normalizeWeights([0, 1, 4, 5])"
   ]
  },
  {
   "cell_type": "code",
   "execution_count": 52,
   "id": "32b58e4f-ae00-44e1-a4da-9b1a0dbb324a",
   "metadata": {},
   "outputs": [],
   "source": [
    "def calculateTotalCost(wgts, path):\n",
    "    reversedpath = path[::-1]\n",
    "    cost = 0\n",
    "    for i in range(len(path) - 1):\n",
    "        cost += wgts[(reversedpath[i], reversedpath[i+1])]\n",
    "    return cost\n",
    "\n",
    "def calculateTotalDistance(network, wgts, path):\n",
    "    reversedpath = path[::-1]\n",
    "    distance = 0\n",
    "    for i in range(len(path) - 1):\n",
    "        d1 = network.cells[path[i]].origin\n",
    "        d2 = network.cells[path[i+1]].origin\n",
    "        distance += haversineDistance(d1[0], d1[1], d2[0], d2[1])\n",
    "    return distance\n",
    "\n",
    "def distance(network, path):\n",
    "    d1 = network.cells[path[0]].origin\n",
    "    d2 = network.cells[path[-1]].origin\n",
    "    return(haversineDistance(d1[0], d1[1], d2[0], d2[1]))"
   ]
  },
  {
   "cell_type": "code",
   "execution_count": 53,
   "id": "f410dc39-a8ff-4a9a-93ec-4bf3a0d67743",
   "metadata": {},
   "outputs": [],
   "source": [
    "distances = [distance(network, i) for i in sw]"
   ]
  },
  {
   "cell_type": "code",
   "execution_count": 55,
   "id": "7f470752-7b96-4847-8b21-5a38e6b1853b",
   "metadata": {},
   "outputs": [],
   "source": [
    "astarcosts = []\n",
    "swpcosts = []\n",
    "naivecosts = []\n",
    "\n",
    "_swtotals = np.array([calculateTotalCost(wgts, i) for i in sw])\n",
    "_distancessw = np.array([distance(network, i) for i in sw])\n",
    "\n",
    "_astartotals = np.array([calculateTotalCost(wgts, i) for i in astar])\n",
    "_distancesastar = np.array([distance(network, i) for i in astar])\n",
    "\n",
    "_naivetotals = np.array([calculateTotalCost(wgts, i) for i in naive])\n",
    "_distancesnaive = np.array([distance(network, i) for i in naive])\n",
    "\n",
    "for d in range(0, 80):\n",
    "    swpc = np.mean(_swtotals[np.array(_distancessw) > d])\n",
    "    astarc = np.mean(_astartotals[np.array(_distancesastar) > d])\n",
    "    naivec = np.mean(_naivetotals[np.array(_distancesnaive) > d])\n",
    "    astarcosts.append(astarc)\n",
    "    swpcosts.append(swpc)\n",
    "    naivecosts.append(naivec)"
   ]
  },
  {
   "cell_type": "code",
   "execution_count": 56,
   "id": "ea1e4f67-c6f4-4380-84a9-55127e271a96",
   "metadata": {},
   "outputs": [
    {
     "data": {
      "image/png": "[encoded data removed]",
      "text/plain": [
       "<Figure size 640x480 with 1 Axes>"
      ]
     },
     "metadata": {},
     "output_type": "display_data"
    }
   ],
   "source": [
    "plt.figure()\n",
    "plt.title(\"Improvement of SWP over A*\")\n",
    "plt.xlabel(\"Minimum path length considered (meters)\")\n",
    "plt.ylabel(\"Mean Cost\")\n",
    "plt.plot(astarcosts, label='Mean A* Cost')\n",
    "plt.plot(swpcosts, label='Mean SWP Cost')\n",
    "plt.plot(naivecosts, label='Mean Naive Cost')\n",
    "plt.legend()\n",
    "plt.show()"
   ]
  },
  {
   "cell_type": "code",
   "execution_count": 58,
   "id": "06d85457-1f31-41e9-8cb3-913f5a8a2bb3",
   "metadata": {},
   "outputs": [],
   "source": [
    "minimum_distance = 0\n",
    "\n",
    "#COSTS\n",
    "swp_costs = [calculateTotalCost(wgts, i) for i in sw if distance(network, i) > minimum_distance]\n",
    "swp_avg = np.mean(swp_costs)\n",
    "\n",
    "rrt_costs = [calculateTotalCost(wgts, i) for i in rrt if distance(network, i) > minimum_distance]\n",
    "rrt_avg = np.mean(rrt_costs)\n",
    "\n",
    "astar_costs = [calculateTotalCost(wgts, i) for i in astar if distance(network, i) > minimum_distance]\n",
    "astar_avg = np.mean(astar_costs)\n",
    "\n",
    "naive_costs = [calculateTotalCost(wgts, i) for i in naive if distance(network, i) > minimum_distance]\n",
    "naive_avg = np.mean(naive_costs)\n",
    "\n",
    "#DISTANCES\n",
    "swp_dist = [calculateTotalDistance(network, wgts, i) for i in sw if distance(network, i) > minimum_distance]\n",
    "swp_dist_avg = np.mean(swp_costs)\n",
    "\n",
    "rrt_dist = [calculateTotalDistance(network, wgts, i) for i in rrt if distance(network, i) > minimum_distance]\n",
    "rrt_avg = np.mean(rrt_costs)\n",
    "\n",
    "astar_dist = [calculateTotalDistance(network, wgts, i) for i in astar if distance(network, i) > minimum_distance]\n",
    "astar_dist_avg = np.mean(astar_costs)\n",
    "\n",
    "naive_dist = [calculateTotalDistance(network, wgts, i) for i in naive if distance(network, i) > minimum_distance]\n",
    "naive_dist_avg = np.mean(naive_costs)\n"
   ]
  },
  {
   "cell_type": "code",
   "execution_count": 47,
   "id": "eb000589-2fbf-4861-81cc-6dee56b95e77",
   "metadata": {},
   "outputs": [
    {
     "name": "stdout",
     "output_type": "stream",
     "text": [
      "Mean swp cost: 19.356654400747683\n",
      "Mean rrt cost: 22.066295101941122\n",
      "p-value: 0.0\n",
      "___________________________________________\n",
      "Mean swp cost: 19.356654400747683\n",
      "Mean astar cost: 19.548542238727688\n",
      "p-value: 0.0002588291659747119\n",
      "___________________________________________\n",
      "Mean swp cost: 19.356654400747683\n",
      "Mean naive cost: 21.845377554361562\n",
      "p-value: 0.0\n"
     ]
    }
   ],
   "source": [
    "rrt_result = two_sample_t_test(swp_costs, rrt_costs)\n",
    "print(f\"Mean swp cost: {np.mean(swp_costs)}\")\n",
    "print(f\"Mean rrt cost: {np.mean(rrt_costs)}\")\n",
    "print(f\"p-value: {rrt_result['p_value']}\")\n",
    "\n",
    "print(\"___________________________________________\")\n",
    "\n",
    "astar_result = two_sample_t_test(swp_costs, astar_costs)\n",
    "print(f\"Mean swp cost: {np.mean(swp_costs)}\")\n",
    "print(f\"Mean astar cost: {np.mean(astar_costs)}\")\n",
    "print(f\"p-value: {astar_result['p_value']}\")\n",
    "\n",
    "print(\"___________________________________________\")\n",
    "\n",
    "naive_result = two_sample_t_test(swp_costs, naive_costs)\n",
    "print(f\"Mean swp cost: {np.mean(swp_costs)}\")\n",
    "print(f\"Mean naive cost: {np.mean(naive_costs)}\")\n",
    "print(f\"p-value: {naive_result['p_value']}\")"
   ]
  },
  {
   "cell_type": "code",
   "execution_count": 59,
   "id": "2fc23d04-a897-4678-8c33-ba8fe47619a8",
   "metadata": {},
   "outputs": [
    {
     "name": "stdout",
     "output_type": "stream",
     "text": [
      "Mean swp cost: 50.910470411071465\n",
      "Mean rrt cost: 59.00588995741761\n",
      "p-value: 0.0\n",
      "___________________________________________\n",
      "Mean swp cost: 50.910470411071465\n",
      "Mean astar cost: 51.732074193787376\n",
      "p-value: 6.499648863252795e-09\n",
      "___________________________________________\n",
      "Mean swp cost: 50.910470411071465\n",
      "Mean naive cost: 47.731018958899746\n",
      "p-value: 4.152574805279658e-121\n"
     ]
    }
   ],
   "source": [
    "rrt_dist_result = two_sample_t_test(swp_dist, rrt_dist)\n",
    "print(f\"Mean swp cost: {np.mean(swp_dist)}\")\n",
    "print(f\"Mean rrt cost: {np.mean(rrt_dist)}\")\n",
    "print(f\"p-value: {rrt_dist_result['p_value']}\")\n",
    "\n",
    "print(\"___________________________________________\")\n",
    "\n",
    "astar_dist_result = two_sample_t_test(swp_dist, astar_dist)\n",
    "print(f\"Mean swp cost: {np.mean(swp_dist)}\")\n",
    "print(f\"Mean astar cost: {np.mean(astar_dist)}\")\n",
    "print(f\"p-value: {astar_dist_result['p_value']}\")\n",
    "\n",
    "print(\"___________________________________________\")\n",
    "\n",
    "naive_dist_result = two_sample_t_test(swp_dist, naive_dist)\n",
    "print(f\"Mean swp cost: {np.mean(swp_dist)}\")\n",
    "print(f\"Mean naive cost: {np.mean(naive_dist)}\")\n",
    "print(f\"p-value: {naive_dist_result['p_value']}\")"
   ]
  },
  {
   "cell_type": "code",
   "execution_count": null,
   "id": "cfd39250-9195-4952-b1f5-9d5f02cb475a",
   "metadata": {},
   "outputs": [],
   "source": []
  }
 ],
 "metadata": {
  "kernelspec": {
   "display_name": "Python 3 (ipykernel)",
   "language": "python",
   "name": "python3"
  },
  "language_info": {
   "codemirror_mode": {
    "name": "ipython",
    "version": 3
   },
   "file_extension": ".py",
   "mimetype": "text/x-python",
   "name": "python",
   "nbconvert_exporter": "python",
   "pygments_lexer": "ipython3",
   "version": "3.12.1"
  }
 },
 "nbformat": 4,
 "nbformat_minor": 5
}
