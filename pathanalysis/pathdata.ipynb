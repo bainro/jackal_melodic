{
 "cells": [
  {
   "cell_type": "code",
   "execution_count": 31,
   "id": "2ebb1d37-444b-4294-a5a0-545a38aa63c2",
   "metadata": {},
   "outputs": [],
   "source": [
    "import os\n",
    "import numpy as np"
   ]
  },
  {
   "cell_type": "code",
   "execution_count": 2,
   "id": "0e736f93-0b33-409a-8d29-da3c8373dc7a",
   "metadata": {},
   "outputs": [],
   "source": [
    "PATH_DIR = 'paths'"
   ]
  },
  {
   "cell_type": "code",
   "execution_count": 3,
   "id": "c8585726-f720-4590-a559-79f059d4fd62",
   "metadata": {},
   "outputs": [],
   "source": [
    "def stringToTuple(input_string):\n",
    "    try:\n",
    "        tuples_list = eval(input_string)\n",
    "        \n",
    "        if isinstance(tuples_list, list) and all(isinstance(t, tuple) and len(t) == 2 for t in tuples_list):\n",
    "            return tuples_list\n",
    "        else:\n",
    "            raise ValueError(\"Invalid input format. Must be a list of tuples.\")\n",
    "    \n",
    "    except Exception as e:\n",
    "        raise ValueError(\"Error converting string to tuples: {}\".format(str(e)))\n",
    "\n",
    "def evalCost(input_string):\n",
    "    try:\n",
    "        # Using eval to parse the string into a Python expression\n",
    "        list_of_lists = eval(input_string)\n",
    "        \n",
    "        # Check if the result is a list of lists\n",
    "        if isinstance(list_of_lists, list) and all(isinstance(sublist, list) for sublist in list_of_lists):\n",
    "            # Check if each element in the sublists is a float\n",
    "            flattened_list = [elem for sublist in list_of_lists for elem in sublist]\n",
    "            return list_of_lists\n",
    "        else:\n",
    "            raise ValueError(\"Invalid input format. Must be a list of lists.\")\n",
    "    \n",
    "    except Exception as e:\n",
    "        return None\n",
    "        raise ValueError(\"Error converting string to list of lists: {}\".format(str(e)))"
   ]
  },
  {
   "cell_type": "code",
   "execution_count": 4,
   "id": "ba3e8e74-93ef-4ce3-9d20-9030531fbc8e",
   "metadata": {},
   "outputs": [],
   "source": [
    "dir_list = os.listdir(PATH_DIR)\n",
    "\n",
    "paths = {'RRT' : {}, 'spike' : {}}\n",
    "start_ends = []\n",
    "\n",
    "for file in dir_list:\n",
    "    if os.path.isdir(os.path.join(PATH_DIR, file)):\n",
    "        continue\n",
    "    comps = file[0:-4].split(\"_\")\n",
    "    \n",
    "    pathtype = comps[0]\n",
    "    \n",
    "    start = comps[1].split(\"-\")\n",
    "    start = (int(start[0]), int(start[1]))\n",
    "\n",
    "    end = comps[2].split(\"-\")\n",
    "    end = (int(end[0]), int(end[1]))\n",
    "\n",
    "    point = ((start, end))\n",
    "\n",
    "    with open(os.path.join(PATH_DIR, file)) as f:\n",
    "        path = stringToTuple(f.readline())\n",
    "        costs = evalCost(f.readline())\n",
    "        if costs != None:\n",
    "            paths[pathtype][point] = {'trajectory' : None, 'cost' : None}\n",
    "            paths[pathtype][point]['trajectory'] = path\n",
    "            paths[pathtype][point]['cost'] = costs\n",
    "\n",
    "    if point not in start_ends and costs != None:\n",
    "        start_ends.append(point)"
   ]
  },
  {
   "cell_type": "code",
   "execution_count": 5,
   "id": "88219b8c-f6b3-46ad-beae-351f7232018f",
   "metadata": {},
   "outputs": [],
   "source": [
    "def calculateCost(data):\n",
    "    current_total = 0\n",
    "    current_time = 0\n",
    "\n",
    "    obstacle_total = 0\n",
    "    obstacle_time = 0\n",
    "\n",
    "    slope_total = 0\n",
    "    slope_time = 0\n",
    "\n",
    "    for wp in data:\n",
    "        current_total += wp[1]\n",
    "        current_time += wp[2]\n",
    "        obstacle_total += wp[3]\n",
    "        obstacle_time += wp[4]\n",
    "        slope_total += wp[5]\n",
    "        slope_time += wp[6]\n",
    "\n",
    "    return [current_total, current_time, obstacle_total, obstacle_time, slope_total, slope_time]"
   ]
  },
  {
   "cell_type": "code",
   "execution_count": 6,
   "id": "996b0a63-0fa9-4587-9958-d581246576df",
   "metadata": {},
   "outputs": [],
   "source": [
    "rrts = []\n",
    "swps = []\n",
    "\n",
    "rrt_plens = []\n",
    "swp_plens = []\n",
    "\n",
    "for pts in start_ends:\n",
    "    rrt_costs = paths['RRT'][pts]['cost']\n",
    "    swp_costs = paths['spike'][pts]['cost']\n",
    "\n",
    "    rrts.append(calculateCost(rrt_costs))\n",
    "    swps.append(calculateCost(swp_costs))\n",
    "\n",
    "    rrt_plens.append(len(paths['RRT'][pts]['trajectory']))\n",
    "    swp_plens.append(len(paths['spike'][pts]['trajectory']))\n",
    "\n",
    "if len(rrts) != len(swps):\n",
    "    print(\"Number of data not the same\")"
   ]
  },
  {
   "cell_type": "code",
   "execution_count": 11,
   "id": "7e3aacdd-b52d-432c-8e7d-d2d101555ddb",
   "metadata": {},
   "outputs": [],
   "source": [
    "import scipy.stats as stats\n",
    "\n",
    "def two_sample_t_test(data1, data2, alpha=0.05):\n",
    "    # Perform two-sample t-test\n",
    "    t_statistic, p_value = stats.ttest_ind(data1, data2)\n",
    "\n",
    "    # Degrees of freedom\n",
    "    degrees_of_freedom = len(data1) + len(data2) - 2\n",
    "\n",
    "    # Critical value for a two-tailed test\n",
    "    critical_value = stats.t.ppf(1 - alpha / 2, degrees_of_freedom)\n",
    "\n",
    "    # Determine if the null hypothesis should be rejected\n",
    "    reject_null = abs(t_statistic) > critical_value\n",
    "\n",
    "    result = {\n",
    "        't_statistic': t_statistic,\n",
    "        'p_value': p_value,\n",
    "        'degrees_of_freedom': degrees_of_freedom,\n",
    "        'critical_value': critical_value,\n",
    "        'reject_null': reject_null\n",
    "    }\n",
    "\n",
    "    return result"
   ]
  },
  {
   "cell_type": "code",
   "execution_count": 29,
   "id": "1ac2398d-b59c-46a5-a29b-e54e6408cba3",
   "metadata": {},
   "outputs": [],
   "source": [
    "swp_curr = [swps[i][1] / swps[i][0] for i in range(len(swps))]\n",
    "rrt_curr = [rrts[i][1] / rrts[i][0] for i in range(len(rrts))]\n",
    "\n",
    "swp_obs = [swps[i][2] for i in range(len(swps))]\n",
    "rrt_obs = [rrts[i][2] for i in range(len(rrts))]\n",
    "\n",
    "swp_slope = [swps[i][4] for i in range(len(swps))]\n",
    "rrt_slope = [rrts[i][4] for i in range(len(rrts))]"
   ]
  },
  {
   "cell_type": "code",
   "execution_count": 33,
   "id": "134fa86c-4a05-4c43-a649-b980911edae1",
   "metadata": {},
   "outputs": [
    {
     "name": "stdout",
     "output_type": "stream",
     "text": [
      "1331.5227082821696\n",
      "1411.8941426803833\n"
     ]
    }
   ],
   "source": [
    "print(np.mean(swp_slope))\n",
    "print(np.mean(rrt_slope))"
   ]
  },
  {
   "cell_type": "code",
   "execution_count": 40,
   "id": "602d6324-0c4e-4927-8a70-663079488b98",
   "metadata": {},
   "outputs": [
    {
     "name": "stdout",
     "output_type": "stream",
     "text": [
      "{'t_statistic': 0.25802187427833484, 'p_value': 0.7974084896406521, 'degrees_of_freedom': 52, 'critical_value': 2.0066468031022113, 'reject_null': False}\n"
     ]
    }
   ],
   "source": [
    "curr_result = two_sample_t_test(swp_curr, rrt_curr)\n",
    "print(curr_result)"
   ]
  },
  {
   "cell_type": "code",
   "execution_count": 41,
   "id": "8d5c3520-ccd7-4958-9ae3-967101d83eae",
   "metadata": {},
   "outputs": [
    {
     "name": "stdout",
     "output_type": "stream",
     "text": [
      "{'t_statistic': -1.8180164239000824, 'p_value': 0.07482411522388262, 'degrees_of_freedom': 52, 'critical_value': 2.0066468031022113, 'reject_null': False}\n"
     ]
    }
   ],
   "source": [
    "obs_result = two_sample_t_test(swp_obs, rrt_obs)\n",
    "print(obs_result)"
   ]
  },
  {
   "cell_type": "code",
   "execution_count": 42,
   "id": "3294283f-5c3a-48d0-962b-2c05436fe1e3",
   "metadata": {},
   "outputs": [
    {
     "name": "stdout",
     "output_type": "stream",
     "text": [
      "{'t_statistic': -0.3364577227319846, 'p_value': 0.7378797760089983, 'degrees_of_freedom': 52, 'critical_value': 2.0066468031022113, 'reject_null': False}\n"
     ]
    }
   ],
   "source": [
    "slope_result = two_sample_t_test(swp_slope, rrt_slope)\n",
    "print(slope_result)"
   ]
  },
  {
   "cell_type": "code",
   "execution_count": 43,
   "id": "d991292e-d1e8-40fb-9d74-7eef5df9e9c2",
   "metadata": {},
   "outputs": [
    {
     "name": "stdout",
     "output_type": "stream",
     "text": [
      "{'t_statistic': -1.116964691401176, 'p_value': 0.2691439059207824, 'degrees_of_freedom': 52, 'critical_value': 2.0066468031022113, 'reject_null': False}\n"
     ]
    }
   ],
   "source": [
    "pathlen_result = two_sample_t_test(swp_plens, rrt_plens)\n",
    "print(pathlen_result)"
   ]
  },
  {
   "cell_type": "code",
   "execution_count": null,
   "id": "c90eed17-1e5c-42fa-b307-cc348fa8e4a6",
   "metadata": {},
   "outputs": [],
   "source": []
  }
 ],
 "metadata": {
  "kernelspec": {
   "display_name": "Python 3 (ipykernel)",
   "language": "python",
   "name": "python3"
  },
  "language_info": {
   "codemirror_mode": {
    "name": "ipython",
    "version": 3
   },
   "file_extension": ".py",
   "mimetype": "text/x-python",
   "name": "python",
   "nbconvert_exporter": "python",
   "pygments_lexer": "ipython3",
   "version": "3.11.6"
  }
 },
 "nbformat": 4,
 "nbformat_minor": 5
}
