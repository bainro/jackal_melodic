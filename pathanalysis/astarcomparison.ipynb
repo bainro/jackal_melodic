{
 "cells": [
  {
   "cell_type": "code",
   "execution_count": 1,
   "id": "098752fb-5ec5-4eb7-a126-6d696b25d347",
   "metadata": {},
   "outputs": [],
   "source": [
    "import sys\n",
    "sys.path.append('../')\n",
    "from utils import get_distance\n",
    "from queue import PriorityQueue\n",
    "from dataclasses import dataclass, field\n",
    "from typing import Any, Tuple\n",
    "from placecell import PlaceNetwork, loadNetwork\n",
    "from tqdm import tqdm"
   ]
  },
  {
   "cell_type": "code",
   "execution_count": 2,
   "id": "e20ec8ab-964e-4f0b-9bb0-a6ec5efb5646",
   "metadata": {},
   "outputs": [],
   "source": [
    "def astar(network, startPt, goalPt, costmap):\n",
    "\n",
    "    def getPath(end):\n",
    "        path = []\n",
    "        current = end\n",
    "        while current.camefrom is not None:\n",
    "            path.append(current.item)\n",
    "            current = current.camefrom\n",
    "\n",
    "        path.append(current.item)\n",
    "        return path\n",
    "    \n",
    "    @dataclass(order=True)\n",
    "    class Item:\n",
    "        priority: int\n",
    "        item: Any=field(compare=False)\n",
    "        camefrom: Any=field(compare=False)\n",
    "        \n",
    "    open = PriorityQueue()\n",
    "    visited = set()\n",
    "    \n",
    "    wgt_dict = network.normalizeWeights(costmap)\n",
    "    startID = network.points[startPt[0], startPt[1]]\n",
    "    goalID = network.points[goalPt[0], goalPt[1]]\n",
    "\n",
    "    open.put(Item(item=startID, priority=0, camefrom=None))\n",
    "\n",
    "    while not open.empty():\n",
    "        \n",
    "        current = open.get_nowait()\n",
    "\n",
    "        if current.item == goalID:\n",
    "            return getPath(current)\n",
    "\n",
    "        visited.add(current.item)\n",
    "\n",
    "        neighbors = [i.ID for i in network.cells[current.item].connections.values()]\n",
    "        for neighborID in neighbors:\n",
    "            if neighborID not in visited:\n",
    "                cost = current.priority + round(wgt_dict[(current.item, neighborID)])\n",
    "                open.put(Item(item=neighborID, priority=cost, camefrom=current))\n",
    "\n",
    "    print(\"Goal couldn't be reached (shouldn't get here)\")\n",
    "    return None"
   ]
  },
  {
   "cell_type": "code",
   "execution_count": 3,
   "id": "1aa79034-7b48-4c0c-93f7-407e5b3cf3b9",
   "metadata": {},
   "outputs": [],
   "source": [
    "network = PlaceNetwork()\n",
    "data = loadNetwork(\"../fixed_wgts\")\n",
    "network.loadFromFile(data)\n",
    "\n",
    "naive_network = PlaceNetwork()\n",
    "naive_network.initAldritch(numcosts=6)\n",
    "naive_network.initConnections()\n",
    "#(15, 1) to (9, 11) for obstacles\n",
    "\n",
    "rrt_p = network.RRTstar((15, 1), (9, 11), costmap=[0, 1, 4, 5])\n",
    "sw_p = network.spikeWave((15, 1), (9, 11), costmap=[0, 1, 4, 5])\n",
    "astar_p = astar(network, (15, 1), (9, 11), costmap=[0, 1, 4, 5])\n",
    "naive_p = astar(naive_network, (15, 1), (9, 11), costmap=[0])"
   ]
  },
  {
   "cell_type": "code",
   "execution_count": 4,
   "id": "5e500c79-204b-4f75-ae26-f5020632892a",
   "metadata": {},
   "outputs": [
    {
     "name": "stderr",
     "output_type": "stream",
     "text": [
      "  0%|                                                                            | 62/57086 [01:31<23:29:50,  1.48s/it]\n"
     ]
    },
    {
     "ename": "KeyboardInterrupt",
     "evalue": "",
     "output_type": "error",
     "traceback": [
      "\u001b[1;31m---------------------------------------------------------------------------\u001b[0m",
      "\u001b[1;31mKeyboardInterrupt\u001b[0m                         Traceback (most recent call last)",
      "Cell \u001b[1;32mIn[4], line 25\u001b[0m\n\u001b[0;32m     23\u001b[0m \u001b[38;5;28;01mfor\u001b[39;00m test_pt \u001b[38;5;129;01min\u001b[39;00m tqdm(st_ends):\n\u001b[0;32m     24\u001b[0m     astar_p \u001b[38;5;241m=\u001b[39m astar(network, test_pt[\u001b[38;5;241m0\u001b[39m], test_pt[\u001b[38;5;241m1\u001b[39m], costmap\u001b[38;5;241m=\u001b[39m[\u001b[38;5;241m0\u001b[39m, \u001b[38;5;241m1\u001b[39m, \u001b[38;5;241m4\u001b[39m, \u001b[38;5;241m5\u001b[39m])\n\u001b[1;32m---> 25\u001b[0m     naive_p \u001b[38;5;241m=\u001b[39m \u001b[43mastar\u001b[49m\u001b[43m(\u001b[49m\u001b[43mnetwork\u001b[49m\u001b[43m,\u001b[49m\u001b[43m \u001b[49m\u001b[43mtest_pt\u001b[49m\u001b[43m[\u001b[49m\u001b[38;5;241;43m0\u001b[39;49m\u001b[43m]\u001b[49m\u001b[43m,\u001b[49m\u001b[43m \u001b[49m\u001b[43mtest_pt\u001b[49m\u001b[43m[\u001b[49m\u001b[38;5;241;43m1\u001b[39;49m\u001b[43m]\u001b[49m\u001b[43m,\u001b[49m\u001b[43m \u001b[49m\u001b[43mcostmap\u001b[49m\u001b[38;5;241;43m=\u001b[39;49m\u001b[43m[\u001b[49m\u001b[38;5;241;43m0\u001b[39;49m\u001b[43m,\u001b[49m\u001b[43m \u001b[49m\u001b[38;5;241;43m1\u001b[39;49m\u001b[43m,\u001b[49m\u001b[43m \u001b[49m\u001b[38;5;241;43m4\u001b[39;49m\u001b[43m,\u001b[49m\u001b[43m \u001b[49m\u001b[38;5;241;43m5\u001b[39;49m\u001b[43m]\u001b[49m\u001b[43m)\u001b[49m\n\u001b[0;32m     26\u001b[0m     sw_p \u001b[38;5;241m=\u001b[39m network\u001b[38;5;241m.\u001b[39mspikeWave(test_pt[\u001b[38;5;241m0\u001b[39m], test_pt[\u001b[38;5;241m1\u001b[39m], costmap\u001b[38;5;241m=\u001b[39m[\u001b[38;5;241m0\u001b[39m, \u001b[38;5;241m1\u001b[39m, \u001b[38;5;241m4\u001b[39m, \u001b[38;5;241m5\u001b[39m])\n\u001b[0;32m     27\u001b[0m     rrt_p \u001b[38;5;241m=\u001b[39m network\u001b[38;5;241m.\u001b[39mRRTstar(test_pt[\u001b[38;5;241m0\u001b[39m], test_pt[\u001b[38;5;241m1\u001b[39m], costmap\u001b[38;5;241m=\u001b[39m[\u001b[38;5;241m0\u001b[39m, \u001b[38;5;241m1\u001b[39m, \u001b[38;5;241m4\u001b[39m, \u001b[38;5;241m5\u001b[39m])\n",
      "Cell \u001b[1;32mIn[2], line 41\u001b[0m, in \u001b[0;36mastar\u001b[1;34m(network, startPt, goalPt, costmap)\u001b[0m\n\u001b[0;32m     39\u001b[0m         \u001b[38;5;28;01mif\u001b[39;00m neighborID \u001b[38;5;129;01mnot\u001b[39;00m \u001b[38;5;129;01min\u001b[39;00m visited:\n\u001b[0;32m     40\u001b[0m             cost \u001b[38;5;241m=\u001b[39m current\u001b[38;5;241m.\u001b[39mpriority \u001b[38;5;241m+\u001b[39m \u001b[38;5;28mround\u001b[39m(wgt_dict[(current\u001b[38;5;241m.\u001b[39mitem, neighborID)])\n\u001b[1;32m---> 41\u001b[0m             \u001b[38;5;28mopen\u001b[39m\u001b[38;5;241m.\u001b[39mput(\u001b[43mItem\u001b[49m\u001b[43m(\u001b[49m\u001b[43mitem\u001b[49m\u001b[38;5;241;43m=\u001b[39;49m\u001b[43mneighborID\u001b[49m\u001b[43m,\u001b[49m\u001b[43m \u001b[49m\u001b[43mpriority\u001b[49m\u001b[38;5;241;43m=\u001b[39;49m\u001b[43mcost\u001b[49m\u001b[43m,\u001b[49m\u001b[43m \u001b[49m\u001b[43mcamefrom\u001b[49m\u001b[38;5;241;43m=\u001b[39;49m\u001b[43mcurrent\u001b[49m\u001b[43m)\u001b[49m)\n\u001b[0;32m     43\u001b[0m \u001b[38;5;28mprint\u001b[39m(\u001b[38;5;124m\"\u001b[39m\u001b[38;5;124mGoal couldn\u001b[39m\u001b[38;5;124m'\u001b[39m\u001b[38;5;124mt be reached (shouldn\u001b[39m\u001b[38;5;124m'\u001b[39m\u001b[38;5;124mt get here)\u001b[39m\u001b[38;5;124m\"\u001b[39m)\n\u001b[0;32m     44\u001b[0m \u001b[38;5;28;01mreturn\u001b[39;00m \u001b[38;5;28;01mNone\u001b[39;00m\n",
      "File \u001b[1;32m<string>:2\u001b[0m, in \u001b[0;36m__init__\u001b[1;34m(self, priority, item, camefrom)\u001b[0m\n",
      "\u001b[1;31mKeyboardInterrupt\u001b[0m: "
     ]
    }
   ],
   "source": [
    "mindistance = 3\n",
    "\n",
    "same = 0\n",
    "total = 0\n",
    "\n",
    "wps = []\n",
    "st_ends = []\n",
    "\n",
    "astar_pths = []\n",
    "sw_pths = []\n",
    "rrt_pths = []\n",
    "naive_pths = []\n",
    "\n",
    "for cell in network.cells:\n",
    "    wps.append((network.points[cell.ID][0], network.points[cell.ID][1]))\n",
    "\n",
    "for start in wps:\n",
    "    for end in wps:\n",
    "        if start == end or get_distance(start, end) < 2:\n",
    "            continue\n",
    "        st_ends.append((start, end))\n",
    "\n",
    "for test_pt in tqdm(st_ends):\n",
    "    astar_p = astar(network, test_pt[0], test_pt[1], costmap=[0, 1, 4, 5])\n",
    "    naive_p = astar(network, test_pt[0], test_pt[1], costmap=[0, 1, 4, 5])\n",
    "    sw_p = network.spikeWave(test_pt[0], test_pt[1], costmap=[0, 1, 4, 5])\n",
    "    rrt_p = network.RRTstar(test_pt[0], test_pt[1], costmap=[0, 1, 4, 5])\n",
    "\n",
    "    astar_pths.append(astar_p)\n",
    "    naive_pths.append(naive_p)\n",
    "    sw_pths.append(sw_p)\n",
    "    rrt_pths.append(rrt_p)\n",
    "\n"
   ]
  },
  {
   "cell_type": "code",
   "execution_count": null,
   "id": "8db103d1-19a0-4bb1-9c0c-1b6e17f2e87b",
   "metadata": {},
   "outputs": [],
   "source": []
  },
  {
   "cell_type": "code",
   "execution_count": null,
   "id": "76280285-de07-4c3a-b490-91f029bcab32",
   "metadata": {},
   "outputs": [],
   "source": []
  }
 ],
 "metadata": {
  "kernelspec": {
   "display_name": "Python 3 (ipykernel)",
   "language": "python",
   "name": "python3"
  },
  "language_info": {
   "codemirror_mode": {
    "name": "ipython",
    "version": 3
   },
   "file_extension": ".py",
   "mimetype": "text/x-python",
   "name": "python",
   "nbconvert_exporter": "python",
   "pygments_lexer": "ipython3",
   "version": "3.11.6"
  }
 },
 "nbformat": 4,
 "nbformat_minor": 5
}
